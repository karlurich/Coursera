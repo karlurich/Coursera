{
 "cells": [
  {
   "cell_type": "markdown",
   "id": "1023c17f-4173-4a44-9beb-4db8a978e997",
   "metadata": {},
   "source": [
    "# Data Science Tools and Ecosystem"
   ]
  },
  {
   "cell_type": "markdown",
   "id": "3d9381a7-0a2d-4424-b6f6-50c4f217c3d0",
   "metadata": {},
   "source": [
    "**This is a test notedbook where data science tools and ecosystem are summaried**"
   ]
  },
  {
   "cell_type": "code",
   "execution_count": null,
   "id": "b45f728c-31bd-4553-b41b-75b4bc10c164",
   "metadata": {},
   "outputs": [],
   "source": [
    "\n"
   ]
  },
  {
   "cell_type": "markdown",
   "id": "3cf50473-1984-49d4-8f78-b93357f2fb5f",
   "metadata": {},
   "source": [
    "#### some of the popular languages that data scientests use are:\n",
    "1. R\n",
    "2. Python\n",
    "3. Scala"
   ]
  },
  {
   "cell_type": "markdown",
   "id": "f46cbd87-dc66-4e6a-b151-30c88d54dc83",
   "metadata": {},
   "source": [
    "### Some of the commonly used libraries used by Data Scientists include:\n",
    "1. NumPy\n",
    "2. Pandas\n",
    "3. SciPy"
   ]
  },
  {
   "cell_type": "markdown",
   "id": "4cb57fe1-7730-43e0-aebe-417582e153ce",
   "metadata": {},
   "source": [
    "## Execute as a markdown cell\n",
    "\n",
    "| data science tools |\n",
    "| -------------| \n",
    "| tensorflow |\n",
    "| spark | \n",
    "| hadoop | \n"
   ]
  },
  {
   "cell_type": "markdown",
   "id": "3a913875-9f28-4c28-a9be-e972d82b5614",
   "metadata": {},
   "source": [
    "**Below are a few examples of evaluating arithmetic expressions in Python**"
   ]
  },
  {
   "cell_type": "markdown",
   "id": "9a3fb97b-7f02-4cde-bb1d-7479c61cfb11",
   "metadata": {},
   "source": [
    "** This a simple arithmetic expression to mutiply then add integers**\n"
   ]
  },
  {
   "cell_type": "code",
   "execution_count": 9,
   "id": "1691bad9-4de7-4705-91a1-1a52a509a88c",
   "metadata": {},
   "outputs": [
    {
     "name": "stdout",
     "output_type": "stream",
     "text": [
      "17\n"
     ]
    }
   ],
   "source": [
    "result=(3*4)+5\n",
    "print(result)"
   ]
  },
  {
   "cell_type": "code",
   "execution_count": 10,
   "id": "81a153a5-fddb-420c-9761-bc11c9aa099d",
   "metadata": {},
   "outputs": [
    {
     "name": "stdout",
     "output_type": "stream",
     "text": [
      "3.3333333333333335\n"
     ]
    }
   ],
   "source": [
    "myminutes=200\n",
    "minutesperhour=60\n",
    "totalhours=myminutes/minutesperhour\n",
    "print(totalhours)"
   ]
  },
  {
   "cell_type": "markdown",
   "id": "f86a94c5-b048-4d29-843e-9d32641a5795",
   "metadata": {},
   "source": [
    "**Objectives:**\n",
    "- list popular languages\n",
    "- get exposed to Jupyter lab\n",
    "- introduction to both R & Python\n",
    "- understand libraries\n",
    "- see some data visualization like plotting\n",
    "  "
   ]
  },
  {
   "cell_type": "markdown",
   "id": "467f4f93-e38f-4f91-bdeb-ee52b1f596d1",
   "metadata": {},
   "source": [
    "## Author\n",
    "Karl Urich"
   ]
  },
  {
   "cell_type": "code",
   "execution_count": null,
   "id": "056e9c19-d7d9-43d2-be3a-14c64f1f1d19",
   "metadata": {},
   "outputs": [],
   "source": []
  }
 ],
 "metadata": {
  "kernelspec": {
   "display_name": "Python 3 (ipykernel)",
   "language": "python",
   "name": "python3"
  },
  "language_info": {
   "codemirror_mode": {
    "name": "ipython",
    "version": 3
   },
   "file_extension": ".py",
   "mimetype": "text/x-python",
   "name": "python",
   "nbconvert_exporter": "python",
   "pygments_lexer": "ipython3",
   "version": "3.12.4"
  }
 },
 "nbformat": 4,
 "nbformat_minor": 5
}
